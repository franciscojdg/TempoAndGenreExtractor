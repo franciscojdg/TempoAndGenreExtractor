{
 "cells": [
  {
   "cell_type": "markdown",
   "metadata": {},
   "source": [
    "Francisco José Durá Galiana"
   ]
  },
  {
   "cell_type": "markdown",
   "metadata": {},
   "source": [
    "# Red simple para predicción de género"
   ]
  },
  {
   "cell_type": "code",
   "execution_count": 2,
   "metadata": {},
   "outputs": [
    {
     "name": "stderr",
     "output_type": "stream",
     "text": [
      "Using TensorFlow backend.\n"
     ]
    }
   ],
   "source": [
    "import warnings\n",
    "warnings.filterwarnings(\"ignore\", category = FutureWarning)\n",
    "\n",
    "import os\n",
    "import keras\n",
    "import h5py\n",
    "import librosa\n",
    "import itertools\n",
    "import pandas as pd\n",
    "import numpy as np\n",
    "import matplotlib.pyplot as plt\n",
    "from collections import OrderedDict\n",
    "import seaborn as sns\n",
    "\n",
    "from keras.utils import to_categorical\n",
    "from sklearn.model_selection import train_test_split\n",
    "from sklearn.metrics import confusion_matrix\n",
    "\n",
    "from keras.models import Sequential, Model\n",
    "from keras.layers import Dense\n",
    "from keras.layers import Activation\n",
    "from keras.layers import Conv2D\n",
    "from keras.layers import MaxPooling2D\n",
    "from keras.layers import Dropout\n",
    "from keras.layers import Flatten\n",
    "from keras.layers import Input\n",
    "from keras.models import Model\n",
    "from keras.layers import BatchNormalization\n",
    "from keras.callbacks import TensorBoard"
   ]
  },
  {
   "cell_type": "markdown",
   "metadata": {},
   "source": [
    "## Leer datos"
   ]
  },
  {
   "cell_type": "code",
   "execution_count": 6,
   "metadata": {},
   "outputs": [],
   "source": [
    "# Parámetros de extracción de canciones\n",
    "gtzan_dir = r\"D:\\Users\\franc\\Documents\\IMF - Deep Learning\\Trabajo Master\\Datasets\\GTZAN\\genres\"\n",
    "data_df = pd.read_csv(r\"D:\\Users\\franc\\Documents\\IMF - Deep Learning\\Trabajo Master\\Scripts\\gtzan_clean.csv\")\n",
    "song_samples = 660000\n",
    "genres = {'metal': 0, 'disco': 1, 'classical': 2, 'hiphop': 3, 'jazz': 4, \n",
    "          'country': 5, 'pop': 6, 'blues': 7, 'reggae': 8, 'rock': 9}"
   ]
  },
  {
   "cell_type": "code",
   "execution_count": 9,
   "metadata": {},
   "outputs": [],
   "source": [
    "X = np.load('x_db_scaled.npy')\n",
    "y1 = np.load('y1_gtzan_npy.npy')"
   ]
  },
  {
   "cell_type": "markdown",
   "metadata": {},
   "source": [
    "convertimos la variable de target a una variable one-hot para poder utilizar en la capa de salida de la red como clasificación categórica"
   ]
  },
  {
   "cell_type": "code",
   "execution_count": 10,
   "metadata": {},
   "outputs": [],
   "source": [
    "y1 = to_categorical(y1)"
   ]
  },
  {
   "cell_type": "markdown",
   "metadata": {},
   "source": [
    "## Partición de los datos\n",
    "A continuación se procede a la partición de los datos en sets de entrenamiento y validación. Originalmente se utilizaba un split de 70/30 de entrenamiento y validación, pero vamos a utilizar un split de entrenamiento/test de 80/20 y utilizaremos un 25% del entrenamiento para validación."
   ]
  },
  {
   "cell_type": "code",
   "execution_count": 13,
   "metadata": {},
   "outputs": [],
   "source": [
    "X_train, X_test, y1_train, y1_test = train_test_split(X, y1, test_size=0.2, random_state=42, stratify = y1)"
   ]
  },
  {
   "cell_type": "markdown",
   "metadata": {},
   "source": [
    "Para comprobar que la distribución de las categorías es equitativa entre los sets pintamos el siguiente gráfico de barras:"
   ]
  },
  {
   "cell_type": "code",
   "execution_count": 16,
   "metadata": {},
   "outputs": [
    {
     "data": {
      "image/png": "[encoded data removed]",
      "text/plain": [
       "<Figure size 432x288 with 1 Axes>"
      ]
     },
     "metadata": {
      "needs_background": "light"
     },
     "output_type": "display_data"
    }
   ],
   "source": [
    "# Histogram for train and test \n",
    "values, count = np.unique(np.argmax(y1_train, axis=1), return_counts=True)\n",
    "plt.bar(values, count, label='entrenamiento')\n",
    "\n",
    "values, count = np.unique(np.argmax(y1_test, axis=1), return_counts=True)\n",
    "plt.bar(values, count, label='test')\n",
    "plt.title('Partición entrenamiento/validación de los datos')\n",
    "plt.xlabel('categoría')\n",
    "plt.ylabel('Nº de ejemplos')\n",
    "plt.legend()\n",
    "plt.show()"
   ]
  },
  {
   "cell_type": "markdown",
   "metadata": {},
   "source": [
    "## Construcción del modelo"
   ]
  },
  {
   "cell_type": "code",
   "execution_count": 18,
   "metadata": {},
   "outputs": [],
   "source": [
    "# Model Definition\n",
    "class MIR:\n",
    "    \n",
    "    def build(num_genres=10):\n",
    "        input_shape = X_train[0].shape\n",
    "\n",
    "        inputs = Input(shape=input_shape)\n",
    "        # Conv Block 1\n",
    "        x1 = Conv2D(16, kernel_size=(3, 3), strides=(1, 1), activation='relu', name='C1')(inputs)\n",
    "        x1 = MaxPooling2D(pool_size=(2, 2), strides=(2, 2), name='P1')(x1)\n",
    "        x1 = Dropout(0.25, name='D1')(x1)\n",
    "\n",
    "        # Conv Block 2\n",
    "        x2 = Conv2D(32, kernel_size=(3, 3), strides=(1, 1), activation='relu', name='C2')(x1)\n",
    "        x2 = MaxPooling2D(pool_size=(2, 2), strides=(2, 2), name='P2')(x2)\n",
    "        x2 = Dropout(0.25, name='D2')(x2)\n",
    "\n",
    "        # Conv Block 3\n",
    "        x3 = Conv2D(64, kernel_size=(3, 3), strides=(1, 1), activation='relu', name='C3')(x2)\n",
    "        x3 = MaxPooling2D(pool_size=(2, 2), strides=(2, 2), name='P3')(x3)\n",
    "        x3 = Dropout(0.25, name='D3')(x3)\n",
    "\n",
    "        # Conv Block 4\n",
    "        x4 = Conv2D(128, kernel_size=(3, 3), strides=(1, 1), activation='relu', name='C4')(x3)\n",
    "        x4 = MaxPooling2D(pool_size=(2, 2), strides=(2, 2), name='P4')(x4)\n",
    "        x4 = Dropout(0.25, name='D4')(x4)\n",
    "\n",
    "        # Conv Block 5\n",
    "        x5 = Conv2D(64, kernel_size=(3, 3), strides=(1, 1), activation='relu', name='C5')(x4)\n",
    "        x5 = MaxPooling2D(pool_size=(4, 4), strides=(4, 4), name='P5')(x5)\n",
    "        x5 = Dropout(0.25, name='D5')(x5)\n",
    "\n",
    "        # MLP\n",
    "        y = Flatten(name='C_out')(x5)\n",
    "        y1 = Dense(num_genres, activation='softmax', name=\"genre\")(y)\n",
    "\n",
    "        model = Model(\n",
    "            inputs=inputs,\n",
    "            outputs=[y1],\n",
    "            name=\"MIR_genre\")\n",
    "        \n",
    "        return model"
   ]
  },
  {
   "cell_type": "code",
   "execution_count": 19,
   "metadata": {},
   "outputs": [
    {
     "name": "stdout",
     "output_type": "stream",
     "text": [
      "_________________________________________________________________\n",
      "Layer (type)                 Output Shape              Param #   \n",
      "=================================================================\n",
      "input_1 (InputLayer)         (None, 128, 129, 1)       0         \n",
      "_________________________________________________________________\n",
      "C1 (Conv2D)                  (None, 126, 127, 16)      160       \n",
      "_________________________________________________________________\n",
      "P1 (MaxPooling2D)            (None, 63, 63, 16)        0         \n",
      "_________________________________________________________________\n",
      "D1 (Dropout)                 (None, 63, 63, 16)        0         \n",
      "_________________________________________________________________\n",
      "C2 (Conv2D)                  (None, 61, 61, 32)        4640      \n",
      "_________________________________________________________________\n",
      "P2 (MaxPooling2D)            (None, 30, 30, 32)        0         \n",
      "_________________________________________________________________\n",
      "D2 (Dropout)                 (None, 30, 30, 32)        0         \n",
      "_________________________________________________________________\n",
      "C3 (Conv2D)                  (None, 28, 28, 64)        18496     \n",
      "_________________________________________________________________\n",
      "P3 (MaxPooling2D)            (None, 14, 14, 64)        0         \n",
      "_________________________________________________________________\n",
      "D3 (Dropout)                 (None, 14, 14, 64)        0         \n",
      "_________________________________________________________________\n",
      "C4 (Conv2D)                  (None, 12, 12, 128)       73856     \n",
      "_________________________________________________________________\n",
      "P4 (MaxPooling2D)            (None, 6, 6, 128)         0         \n",
      "_________________________________________________________________\n",
      "D4 (Dropout)                 (None, 6, 6, 128)         0         \n",
      "_________________________________________________________________\n",
      "C5 (Conv2D)                  (None, 4, 4, 64)          73792     \n",
      "_________________________________________________________________\n",
      "P5 (MaxPooling2D)            (None, 1, 1, 64)          0         \n",
      "_________________________________________________________________\n",
      "D5 (Dropout)                 (None, 1, 1, 64)          0         \n",
      "_________________________________________________________________\n",
      "C_out (Flatten)              (None, 64)                0         \n",
      "_________________________________________________________________\n",
      "genre (Dense)                (None, 10)                650       \n",
      "=================================================================\n",
      "Total params: 171,594\n",
      "Trainable params: 171,594\n",
      "Non-trainable params: 0\n",
      "_________________________________________________________________\n"
     ]
    }
   ],
   "source": [
    "model = MIR.build()\n",
    "model.summary()"
   ]
  },
  {
   "cell_type": "markdown",
   "metadata": {},
   "source": [
    "## Entrenamiento del modelo"
   ]
  },
  {
   "cell_type": "code",
   "execution_count": 20,
   "metadata": {},
   "outputs": [],
   "source": [
    "model.compile(loss=\"categorical_crossentropy\",\n",
    "              optimizer=keras.optimizers.Adam(),\n",
    "              metrics=['accuracy'])"
   ]
  },
  {
   "cell_type": "code",
   "execution_count": 21,
   "metadata": {},
   "outputs": [
    {
     "name": "stdout",
     "output_type": "stream",
     "text": [
      "Train on 11400 samples, validate on 3800 samples\n",
      "Epoch 1/200\n",
      "11400/11400 [==============================] - 7s 577us/step - loss: 3.7356 - acc: 0.1918 - val_loss: 1.9610 - val_acc: 0.3013\n",
      "Epoch 2/200\n",
      "11400/11400 [==============================] - 5s 469us/step - loss: 1.6669 - acc: 0.4009 - val_loss: 1.9142 - val_acc: 0.3087\n",
      "Epoch 3/200\n",
      "11400/11400 [==============================] - 6s 483us/step - loss: 1.4072 - acc: 0.4949 - val_loss: 1.5280 - val_acc: 0.4705\n",
      "Epoch 4/200\n",
      "11400/11400 [==============================] - 5s 467us/step - loss: 1.2702 - acc: 0.5468 - val_loss: 1.3330 - val_acc: 0.5571\n",
      "Epoch 5/200\n",
      "11400/11400 [==============================] - 5s 461us/step - loss: 1.1879 - acc: 0.5768 - val_loss: 1.2855 - val_acc: 0.5718\n",
      "Epoch 6/200\n",
      "11400/11400 [==============================] - 5s 472us/step - loss: 1.1147 - acc: 0.6075 - val_loss: 1.2140 - val_acc: 0.5763\n",
      "Epoch 7/200\n",
      "11400/11400 [==============================] - 6s 491us/step - loss: 1.0598 - acc: 0.6317 - val_loss: 1.1827 - val_acc: 0.5797\n",
      "Epoch 8/200\n",
      "11400/11400 [==============================] - 5s 466us/step - loss: 1.0017 - acc: 0.6482 - val_loss: 1.0715 - val_acc: 0.6374\n",
      "Epoch 9/200\n",
      "11400/11400 [==============================] - 5s 473us/step - loss: 0.9863 - acc: 0.6563 - val_loss: 1.0828 - val_acc: 0.6345\n",
      "Epoch 10/200\n",
      "11400/11400 [==============================] - 5s 476us/step - loss: 0.9550 - acc: 0.6712 - val_loss: 0.9571 - val_acc: 0.6637\n",
      "Epoch 11/200\n",
      "11400/11400 [==============================] - 5s 469us/step - loss: 0.9304 - acc: 0.6813 - val_loss: 0.9908 - val_acc: 0.6932\n",
      "Epoch 12/200\n",
      "11400/11400 [==============================] - 5s 469us/step - loss: 0.8900 - acc: 0.6887 - val_loss: 0.9277 - val_acc: 0.6913\n",
      "Epoch 13/200\n",
      "11400/11400 [==============================] - 5s 477us/step - loss: 0.8619 - acc: 0.6939 - val_loss: 0.9114 - val_acc: 0.6768\n",
      "Epoch 14/200\n",
      "11400/11400 [==============================] - 6s 491us/step - loss: 0.8564 - acc: 0.7042 - val_loss: 0.9677 - val_acc: 0.6721\n",
      "Epoch 15/200\n",
      "11400/11400 [==============================] - 5s 463us/step - loss: 0.8303 - acc: 0.7151 - val_loss: 1.0888 - val_acc: 0.6226\n",
      "Epoch 16/200\n",
      "11400/11400 [==============================] - 5s 463us/step - loss: 0.8092 - acc: 0.7179 - val_loss: 0.9297 - val_acc: 0.6871\n",
      "Epoch 17/200\n",
      "11400/11400 [==============================] - 5s 463us/step - loss: 0.8273 - acc: 0.7092 - val_loss: 0.9007 - val_acc: 0.6963\n",
      "Epoch 18/200\n",
      "11400/11400 [==============================] - 5s 463us/step - loss: 0.7721 - acc: 0.7299 - val_loss: 0.8744 - val_acc: 0.7145\n",
      "Epoch 19/200\n",
      "11400/11400 [==============================] - 5s 462us/step - loss: 0.7702 - acc: 0.7328 - val_loss: 0.8154 - val_acc: 0.7163\n",
      "Epoch 20/200\n",
      "11400/11400 [==============================] - 5s 463us/step - loss: 0.7567 - acc: 0.7359 - val_loss: 0.7975 - val_acc: 0.7405\n",
      "Epoch 21/200\n",
      "11400/11400 [==============================] - 5s 462us/step - loss: 0.7583 - acc: 0.7384 - val_loss: 0.9112 - val_acc: 0.6874\n",
      "Epoch 22/200\n",
      "11400/11400 [==============================] - 5s 462us/step - loss: 0.7303 - acc: 0.7518 - val_loss: 0.9831 - val_acc: 0.6839\n",
      "Epoch 23/200\n",
      "11400/11400 [==============================] - 5s 462us/step - loss: 0.7086 - acc: 0.7587 - val_loss: 0.7798 - val_acc: 0.7503\n",
      "Epoch 24/200\n",
      "11400/11400 [==============================] - 5s 462us/step - loss: 0.7389 - acc: 0.7493 - val_loss: 0.8436 - val_acc: 0.7168\n",
      "Epoch 25/200\n",
      "11400/11400 [==============================] - 5s 463us/step - loss: 0.7074 - acc: 0.7597 - val_loss: 0.7274 - val_acc: 0.7639\n",
      "Epoch 26/200\n",
      "11400/11400 [==============================] - 5s 462us/step - loss: 0.7080 - acc: 0.7538 - val_loss: 0.7648 - val_acc: 0.7468\n",
      "Epoch 27/200\n",
      "11400/11400 [==============================] - 5s 463us/step - loss: 0.6884 - acc: 0.7654 - val_loss: 0.9127 - val_acc: 0.7068\n",
      "Epoch 28/200\n",
      "11400/11400 [==============================] - 5s 462us/step - loss: 0.6805 - acc: 0.7619 - val_loss: 0.7057 - val_acc: 0.7647\n",
      "Epoch 29/200\n",
      "11400/11400 [==============================] - 5s 462us/step - loss: 0.6580 - acc: 0.7696 - val_loss: 0.7360 - val_acc: 0.7471\n",
      "Epoch 30/200\n",
      "11400/11400 [==============================] - 5s 462us/step - loss: 0.6687 - acc: 0.7698 - val_loss: 0.7976 - val_acc: 0.7345\n",
      "Epoch 31/200\n",
      "11400/11400 [==============================] - 5s 463us/step - loss: 0.6555 - acc: 0.7792 - val_loss: 0.7252 - val_acc: 0.7508\n",
      "Epoch 32/200\n",
      "11400/11400 [==============================] - 5s 461us/step - loss: 0.6537 - acc: 0.7781 - val_loss: 0.7483 - val_acc: 0.7492\n",
      "Epoch 33/200\n",
      "11400/11400 [==============================] - 5s 461us/step - loss: 0.6494 - acc: 0.7804 - val_loss: 0.7347 - val_acc: 0.7645\n",
      "Epoch 34/200\n",
      "11400/11400 [==============================] - 5s 462us/step - loss: 0.6383 - acc: 0.7807 - val_loss: 0.7872 - val_acc: 0.7389\n",
      "Epoch 35/200\n",
      "11400/11400 [==============================] - 5s 462us/step - loss: 0.6316 - acc: 0.7818 - val_loss: 0.7583 - val_acc: 0.7539\n",
      "Epoch 36/200\n",
      "11400/11400 [==============================] - 5s 462us/step - loss: 0.6135 - acc: 0.7868 - val_loss: 0.6829 - val_acc: 0.7732\n",
      "Epoch 37/200\n",
      "11400/11400 [==============================] - 5s 462us/step - loss: 0.6114 - acc: 0.7890 - val_loss: 0.7844 - val_acc: 0.7474\n",
      "Epoch 38/200\n",
      "11400/11400 [==============================] - 5s 462us/step - loss: 0.5989 - acc: 0.7940 - val_loss: 0.6386 - val_acc: 0.7879\n",
      "Epoch 39/200\n",
      "11400/11400 [==============================] - 5s 462us/step - loss: 0.5941 - acc: 0.7941 - val_loss: 0.7754 - val_acc: 0.7450\n",
      "Epoch 40/200\n",
      "11400/11400 [==============================] - 5s 462us/step - loss: 0.5968 - acc: 0.7941 - val_loss: 0.7378 - val_acc: 0.7608\n",
      "Epoch 41/200\n",
      "11400/11400 [==============================] - 5s 461us/step - loss: 0.5730 - acc: 0.8037 - val_loss: 0.6974 - val_acc: 0.7750\n",
      "Epoch 42/200\n",
      "11400/11400 [==============================] - 5s 462us/step - loss: 0.6007 - acc: 0.7986 - val_loss: 0.7756 - val_acc: 0.7403\n",
      "Epoch 43/200\n",
      "11400/11400 [==============================] - 5s 462us/step - loss: 0.6021 - acc: 0.7946 - val_loss: 0.6485 - val_acc: 0.7837\n",
      "Epoch 44/200\n",
      "11400/11400 [==============================] - 5s 461us/step - loss: 0.5744 - acc: 0.8026 - val_loss: 0.7082 - val_acc: 0.7629\n",
      "Epoch 45/200\n",
      "11400/11400 [==============================] - 5s 462us/step - loss: 0.5787 - acc: 0.7980 - val_loss: 0.6971 - val_acc: 0.7766\n",
      "Epoch 46/200\n",
      "11400/11400 [==============================] - 5s 462us/step - loss: 0.5800 - acc: 0.8031 - val_loss: 0.6503 - val_acc: 0.7961\n",
      "Epoch 47/200\n",
      "11400/11400 [==============================] - 5s 462us/step - loss: 0.5590 - acc: 0.8097 - val_loss: 0.6004 - val_acc: 0.8034\n",
      "Epoch 48/200\n",
      "11400/11400 [==============================] - 5s 463us/step - loss: 0.5575 - acc: 0.8064 - val_loss: 0.5508 - val_acc: 0.8166\n",
      "Epoch 49/200\n",
      "11400/11400 [==============================] - 5s 462us/step - loss: 0.5409 - acc: 0.8147 - val_loss: 0.6205 - val_acc: 0.7897\n",
      "Epoch 50/200\n",
      "11400/11400 [==============================] - 5s 461us/step - loss: 0.5560 - acc: 0.8069 - val_loss: 0.5415 - val_acc: 0.8182\n",
      "Epoch 51/200\n",
      "11400/11400 [==============================] - 5s 461us/step - loss: 0.5361 - acc: 0.8194 - val_loss: 0.6889 - val_acc: 0.7632\n",
      "Epoch 52/200\n",
      "11400/11400 [==============================] - 5s 461us/step - loss: 0.5610 - acc: 0.8069 - val_loss: 0.6848 - val_acc: 0.7682\n",
      "Epoch 53/200\n",
      "11400/11400 [==============================] - 5s 462us/step - loss: 0.5322 - acc: 0.8089 - val_loss: 0.6542 - val_acc: 0.7795\n",
      "Epoch 54/200\n",
      "11400/11400 [==============================] - 5s 463us/step - loss: 0.5402 - acc: 0.8138 - val_loss: 0.5846 - val_acc: 0.8108\n",
      "Epoch 55/200\n",
      "11400/11400 [==============================] - 5s 462us/step - loss: 0.5418 - acc: 0.8112 - val_loss: 0.6308 - val_acc: 0.7905\n",
      "Epoch 56/200\n",
      "11400/11400 [==============================] - 5s 462us/step - loss: 0.5321 - acc: 0.8177 - val_loss: 0.6572 - val_acc: 0.7861\n",
      "Epoch 57/200\n",
      "11400/11400 [==============================] - 5s 461us/step - loss: 0.5342 - acc: 0.8166 - val_loss: 0.6611 - val_acc: 0.7789\n",
      "Epoch 58/200\n",
      "11400/11400 [==============================] - 5s 461us/step - loss: 0.5300 - acc: 0.8151 - val_loss: 0.5930 - val_acc: 0.8092\n",
      "Epoch 59/200\n",
      "11400/11400 [==============================] - 5s 463us/step - loss: 0.5065 - acc: 0.8289 - val_loss: 0.6532 - val_acc: 0.7832\n",
      "Epoch 60/200\n",
      "11400/11400 [==============================] - 5s 462us/step - loss: 0.5301 - acc: 0.8179 - val_loss: 0.5688 - val_acc: 0.8066\n",
      "Epoch 61/200\n",
      "11400/11400 [==============================] - 5s 461us/step - loss: 0.5084 - acc: 0.8260 - val_loss: 0.5906 - val_acc: 0.7918\n",
      "Epoch 62/200\n",
      "11400/11400 [==============================] - 5s 462us/step - loss: 0.5101 - acc: 0.8245 - val_loss: 0.6795 - val_acc: 0.7821\n",
      "Epoch 63/200\n",
      "11400/11400 [==============================] - 5s 461us/step - loss: 0.5115 - acc: 0.8234 - val_loss: 0.6178 - val_acc: 0.7845\n",
      "Epoch 64/200\n",
      "11400/11400 [==============================] - 5s 462us/step - loss: 0.5017 - acc: 0.8253 - val_loss: 0.6162 - val_acc: 0.7887\n",
      "Epoch 65/200\n",
      "11400/11400 [==============================] - 5s 463us/step - loss: 0.5079 - acc: 0.8276 - val_loss: 0.5665 - val_acc: 0.8100\n",
      "Epoch 66/200\n",
      "11400/11400 [==============================] - 5s 462us/step - loss: 0.5030 - acc: 0.8291 - val_loss: 0.6109 - val_acc: 0.7868\n",
      "Epoch 67/200\n",
      "11400/11400 [==============================] - 5s 463us/step - loss: 0.4956 - acc: 0.8282 - val_loss: 0.6369 - val_acc: 0.7834\n",
      "Epoch 68/200\n",
      "11400/11400 [==============================] - 5s 462us/step - loss: 0.4779 - acc: 0.8389 - val_loss: 0.6802 - val_acc: 0.7647\n",
      "Epoch 69/200\n",
      "11400/11400 [==============================] - 5s 462us/step - loss: 0.5001 - acc: 0.8265 - val_loss: 0.5401 - val_acc: 0.8239\n",
      "Epoch 70/200\n",
      "11400/11400 [==============================] - 5s 462us/step - loss: 0.4786 - acc: 0.8362 - val_loss: 0.6321 - val_acc: 0.7945\n",
      "Epoch 71/200\n",
      "11400/11400 [==============================] - 5s 464us/step - loss: 0.4695 - acc: 0.8372 - val_loss: 0.5120 - val_acc: 0.8250\n",
      "Epoch 72/200\n",
      "11400/11400 [==============================] - 5s 463us/step - loss: 0.4663 - acc: 0.8411 - val_loss: 0.5316 - val_acc: 0.8255\n",
      "Epoch 73/200\n",
      "11400/11400 [==============================] - 5s 462us/step - loss: 0.4884 - acc: 0.8343 - val_loss: 0.5026 - val_acc: 0.8337\n",
      "Epoch 74/200\n",
      "11400/11400 [==============================] - 5s 461us/step - loss: 0.4764 - acc: 0.8369 - val_loss: 0.5135 - val_acc: 0.8308\n",
      "Epoch 75/200\n",
      "11400/11400 [==============================] - 5s 461us/step - loss: 0.4757 - acc: 0.8337 - val_loss: 0.5612 - val_acc: 0.8132\n",
      "Epoch 76/200\n",
      "11400/11400 [==============================] - 5s 461us/step - loss: 0.4820 - acc: 0.8334 - val_loss: 0.4986 - val_acc: 0.8371\n",
      "Epoch 77/200\n",
      "11400/11400 [==============================] - 5s 462us/step - loss: 0.4486 - acc: 0.8434 - val_loss: 0.6321 - val_acc: 0.7834\n",
      "Epoch 78/200\n",
      "11400/11400 [==============================] - 5s 461us/step - loss: 0.4614 - acc: 0.8399 - val_loss: 0.5095 - val_acc: 0.8268\n",
      "Epoch 79/200\n",
      "11400/11400 [==============================] - 5s 461us/step - loss: 0.4750 - acc: 0.8357 - val_loss: 0.5801 - val_acc: 0.8074\n",
      "Epoch 80/200\n",
      "11400/11400 [==============================] - 5s 460us/step - loss: 0.4622 - acc: 0.8403 - val_loss: 0.5457 - val_acc: 0.8216\n",
      "Epoch 81/200\n",
      "11400/11400 [==============================] - 5s 471us/step - loss: 0.4573 - acc: 0.8437 - val_loss: 0.5237 - val_acc: 0.8282\n",
      "Epoch 82/200\n",
      "11400/11400 [==============================] - 5s 478us/step - loss: 0.4611 - acc: 0.8414 - val_loss: 0.5210 - val_acc: 0.8253\n",
      "Epoch 83/200\n",
      "11400/11400 [==============================] - 6s 488us/step - loss: 0.4589 - acc: 0.8412 - val_loss: 0.5920 - val_acc: 0.8061\n",
      "Epoch 84/200\n",
      "11400/11400 [==============================] - 5s 461us/step - loss: 0.4514 - acc: 0.8454 - val_loss: 0.5539 - val_acc: 0.8113\n",
      "Epoch 85/200\n",
      "11400/11400 [==============================] - 5s 461us/step - loss: 0.4493 - acc: 0.8454 - val_loss: 0.5893 - val_acc: 0.8024\n",
      "Epoch 86/200\n",
      "11400/11400 [==============================] - 5s 461us/step - loss: 0.4501 - acc: 0.8435 - val_loss: 0.5487 - val_acc: 0.8203\n",
      "Epoch 87/200\n",
      "11400/11400 [==============================] - 5s 461us/step - loss: 0.4523 - acc: 0.8448 - val_loss: 0.7187 - val_acc: 0.7497\n",
      "Epoch 88/200\n",
      "11400/11400 [==============================] - 5s 462us/step - loss: 0.4452 - acc: 0.8446 - val_loss: 0.5111 - val_acc: 0.8387\n",
      "Epoch 89/200\n",
      "11400/11400 [==============================] - 5s 461us/step - loss: 0.4626 - acc: 0.8412 - val_loss: 0.5886 - val_acc: 0.8053\n",
      "Epoch 90/200\n",
      "11400/11400 [==============================] - 5s 460us/step - loss: 0.4293 - acc: 0.8501 - val_loss: 0.4266 - val_acc: 0.8539\n",
      "Epoch 91/200\n",
      "11400/11400 [==============================] - 5s 461us/step - loss: 0.4461 - acc: 0.8489 - val_loss: 0.4851 - val_acc: 0.8445\n",
      "Epoch 92/200\n",
      "11400/11400 [==============================] - 5s 460us/step - loss: 0.4325 - acc: 0.8524 - val_loss: 0.5384 - val_acc: 0.8221\n",
      "Epoch 93/200\n",
      "11400/11400 [==============================] - 5s 460us/step - loss: 0.4448 - acc: 0.8475 - val_loss: 0.4690 - val_acc: 0.8455\n",
      "Epoch 94/200\n",
      "11400/11400 [==============================] - 5s 461us/step - loss: 0.4297 - acc: 0.8518 - val_loss: 0.5560 - val_acc: 0.8213\n",
      "Epoch 95/200\n",
      "11400/11400 [==============================] - 5s 461us/step - loss: 0.4291 - acc: 0.8533 - val_loss: 0.6586 - val_acc: 0.7803\n",
      "Epoch 96/200\n",
      "11400/11400 [==============================] - 5s 460us/step - loss: 0.4157 - acc: 0.8572 - val_loss: 0.5394 - val_acc: 0.8247\n",
      "Epoch 97/200\n",
      "11400/11400 [==============================] - 5s 461us/step - loss: 0.4244 - acc: 0.8554 - val_loss: 0.4397 - val_acc: 0.8563\n",
      "Epoch 98/200\n",
      "11400/11400 [==============================] - 5s 469us/step - loss: 0.4181 - acc: 0.8543 - val_loss: 0.5128 - val_acc: 0.8287\n",
      "Epoch 99/200\n",
      "11400/11400 [==============================] - 5s 460us/step - loss: 0.4096 - acc: 0.8597 - val_loss: 0.4794 - val_acc: 0.8505\n",
      "Epoch 100/200\n",
      "11400/11400 [==============================] - 5s 459us/step - loss: 0.4300 - acc: 0.8517 - val_loss: 0.5785 - val_acc: 0.8113\n",
      "Epoch 101/200\n",
      "11400/11400 [==============================] - 5s 460us/step - loss: 0.4249 - acc: 0.8561 - val_loss: 0.5226 - val_acc: 0.8213\n",
      "Epoch 102/200\n",
      "11400/11400 [==============================] - 5s 467us/step - loss: 0.4234 - acc: 0.8553 - val_loss: 0.5726 - val_acc: 0.8024\n",
      "Epoch 103/200\n",
      "11400/11400 [==============================] - 6s 483us/step - loss: 0.4311 - acc: 0.8524 - val_loss: 0.5067 - val_acc: 0.8284\n",
      "Epoch 104/200\n",
      "11400/11400 [==============================] - 5s 474us/step - loss: 0.4204 - acc: 0.8550 - val_loss: 0.5717 - val_acc: 0.7997\n",
      "Epoch 105/200\n",
      "11400/11400 [==============================] - 5s 466us/step - loss: 0.4160 - acc: 0.8568 - val_loss: 0.4800 - val_acc: 0.8400\n",
      "Epoch 106/200\n",
      "11400/11400 [==============================] - 5s 468us/step - loss: 0.4143 - acc: 0.8575 - val_loss: 0.5154 - val_acc: 0.8311\n",
      "Epoch 107/200\n",
      "11400/11400 [==============================] - 5s 464us/step - loss: 0.4203 - acc: 0.8569 - val_loss: 0.5881 - val_acc: 0.8105\n",
      "Epoch 108/200\n",
      "11400/11400 [==============================] - 5s 459us/step - loss: 0.4245 - acc: 0.8590 - val_loss: 0.5960 - val_acc: 0.8016\n",
      "Epoch 109/200\n",
      "11400/11400 [==============================] - 5s 459us/step - loss: 0.4094 - acc: 0.8593 - val_loss: 0.5249 - val_acc: 0.8232\n",
      "Epoch 110/200\n",
      "11400/11400 [==============================] - 5s 459us/step - loss: 0.4129 - acc: 0.8589 - val_loss: 0.5762 - val_acc: 0.8192\n",
      "Epoch 111/200\n",
      "11400/11400 [==============================] - 5s 460us/step - loss: 0.4089 - acc: 0.8607 - val_loss: 0.6689 - val_acc: 0.7834\n",
      "Epoch 112/200\n",
      "11400/11400 [==============================] - 5s 457us/step - loss: 0.3992 - acc: 0.8635 - val_loss: 0.4465 - val_acc: 0.8529\n",
      "Epoch 113/200\n",
      "11400/11400 [==============================] - 5s 457us/step - loss: 0.3955 - acc: 0.8666 - val_loss: 0.4645 - val_acc: 0.8526\n",
      "Epoch 114/200\n",
      "11400/11400 [==============================] - 5s 459us/step - loss: 0.3967 - acc: 0.8639 - val_loss: 0.5212 - val_acc: 0.8237\n",
      "Epoch 115/200\n",
      "11400/11400 [==============================] - 5s 458us/step - loss: 0.3975 - acc: 0.8635 - val_loss: 0.4661 - val_acc: 0.8458\n",
      "Epoch 116/200\n",
      "11400/11400 [==============================] - 5s 460us/step - loss: 0.4066 - acc: 0.8627 - val_loss: 0.4711 - val_acc: 0.8445\n",
      "Epoch 117/200\n"
     ]
    },
    {
     "name": "stdout",
     "output_type": "stream",
     "text": [
      "11400/11400 [==============================] - 5s 458us/step - loss: 0.3880 - acc: 0.8635 - val_loss: 0.4823 - val_acc: 0.8445\n",
      "Epoch 118/200\n",
      "11400/11400 [==============================] - 5s 458us/step - loss: 0.4006 - acc: 0.8668 - val_loss: 0.4986 - val_acc: 0.8284\n",
      "Epoch 119/200\n",
      "11400/11400 [==============================] - 5s 459us/step - loss: 0.3953 - acc: 0.8627 - val_loss: 0.5085 - val_acc: 0.8258\n",
      "Epoch 120/200\n",
      "11400/11400 [==============================] - 5s 459us/step - loss: 0.3800 - acc: 0.8708 - val_loss: 0.4166 - val_acc: 0.8555\n",
      "Epoch 121/200\n",
      "11400/11400 [==============================] - 5s 458us/step - loss: 0.4019 - acc: 0.8584 - val_loss: 0.5743 - val_acc: 0.8208\n",
      "Epoch 122/200\n",
      "11400/11400 [==============================] - 5s 460us/step - loss: 0.3898 - acc: 0.8693 - val_loss: 0.5205 - val_acc: 0.8211\n",
      "Epoch 123/200\n",
      "11400/11400 [==============================] - 5s 458us/step - loss: 0.3848 - acc: 0.8727 - val_loss: 0.4918 - val_acc: 0.8329\n",
      "Epoch 124/200\n",
      "11400/11400 [==============================] - 5s 459us/step - loss: 0.3910 - acc: 0.8667 - val_loss: 0.4410 - val_acc: 0.8513\n",
      "Epoch 125/200\n",
      "11400/11400 [==============================] - 5s 460us/step - loss: 0.3779 - acc: 0.8736 - val_loss: 0.5982 - val_acc: 0.8039\n",
      "Epoch 126/200\n",
      "11400/11400 [==============================] - 5s 459us/step - loss: 0.3995 - acc: 0.8662 - val_loss: 0.4647 - val_acc: 0.8545\n",
      "Epoch 127/200\n",
      "11400/11400 [==============================] - 5s 458us/step - loss: 0.3954 - acc: 0.8673 - val_loss: 0.4536 - val_acc: 0.8566\n",
      "Epoch 128/200\n",
      "11400/11400 [==============================] - 5s 460us/step - loss: 0.3766 - acc: 0.8706 - val_loss: 0.6244 - val_acc: 0.7834\n",
      "Epoch 129/200\n",
      "11400/11400 [==============================] - 5s 459us/step - loss: 0.3844 - acc: 0.8693 - val_loss: 0.4423 - val_acc: 0.8537\n",
      "Epoch 130/200\n",
      "11400/11400 [==============================] - 5s 458us/step - loss: 0.3866 - acc: 0.8691 - val_loss: 0.4549 - val_acc: 0.8468\n",
      "Epoch 131/200\n",
      "11400/11400 [==============================] - 5s 459us/step - loss: 0.3827 - acc: 0.8658 - val_loss: 0.4038 - val_acc: 0.8687\n",
      "Epoch 132/200\n",
      "11400/11400 [==============================] - 5s 459us/step - loss: 0.3546 - acc: 0.8787 - val_loss: 0.4428 - val_acc: 0.8534\n",
      "Epoch 133/200\n",
      "11400/11400 [==============================] - 5s 460us/step - loss: 0.3891 - acc: 0.8667 - val_loss: 0.4288 - val_acc: 0.8516\n",
      "Epoch 134/200\n",
      "11400/11400 [==============================] - 5s 459us/step - loss: 0.3707 - acc: 0.8718 - val_loss: 0.6275 - val_acc: 0.7937\n",
      "Epoch 135/200\n",
      "11400/11400 [==============================] - 5s 459us/step - loss: 0.3807 - acc: 0.8682 - val_loss: 0.4758 - val_acc: 0.8453\n",
      "Epoch 136/200\n",
      "11400/11400 [==============================] - 5s 458us/step - loss: 0.3903 - acc: 0.8676 - val_loss: 0.4915 - val_acc: 0.8355\n",
      "Epoch 137/200\n",
      "11400/11400 [==============================] - 5s 458us/step - loss: 0.3849 - acc: 0.8700 - val_loss: 0.5947 - val_acc: 0.7900\n",
      "Epoch 138/200\n",
      "11400/11400 [==============================] - 5s 458us/step - loss: 0.3780 - acc: 0.8646 - val_loss: 0.5095 - val_acc: 0.8308\n",
      "Epoch 139/200\n",
      "11400/11400 [==============================] - 5s 460us/step - loss: 0.3701 - acc: 0.8779 - val_loss: 0.4483 - val_acc: 0.8518\n",
      "Epoch 140/200\n",
      "11400/11400 [==============================] - 5s 459us/step - loss: 0.3686 - acc: 0.8725 - val_loss: 0.5046 - val_acc: 0.8300\n",
      "Epoch 141/200\n",
      "11400/11400 [==============================] - 5s 458us/step - loss: 0.3598 - acc: 0.8777 - val_loss: 0.4915 - val_acc: 0.8358\n",
      "Epoch 142/200\n",
      "11400/11400 [==============================] - 5s 458us/step - loss: 0.3846 - acc: 0.8689 - val_loss: 0.4667 - val_acc: 0.8524\n",
      "Epoch 143/200\n",
      "11400/11400 [==============================] - 5s 458us/step - loss: 0.3775 - acc: 0.8715 - val_loss: 0.5396 - val_acc: 0.8211\n",
      "Epoch 144/200\n",
      "11400/11400 [==============================] - 5s 459us/step - loss: 0.3498 - acc: 0.8821 - val_loss: 0.4920 - val_acc: 0.8421\n",
      "Epoch 145/200\n",
      "11400/11400 [==============================] - 5s 460us/step - loss: 0.3688 - acc: 0.8746 - val_loss: 0.4193 - val_acc: 0.8600\n",
      "Epoch 146/200\n",
      "11400/11400 [==============================] - 5s 457us/step - loss: 0.3695 - acc: 0.8778 - val_loss: 0.4521 - val_acc: 0.8547\n",
      "Epoch 147/200\n",
      "11400/11400 [==============================] - 5s 459us/step - loss: 0.3763 - acc: 0.8704 - val_loss: 0.4408 - val_acc: 0.8526\n",
      "Epoch 148/200\n",
      "11400/11400 [==============================] - 5s 459us/step - loss: 0.3602 - acc: 0.8757 - val_loss: 0.5281 - val_acc: 0.8266\n",
      "Epoch 149/200\n",
      "11400/11400 [==============================] - 5s 458us/step - loss: 0.3700 - acc: 0.8739 - val_loss: 0.5551 - val_acc: 0.8137\n",
      "Epoch 150/200\n",
      "11400/11400 [==============================] - 5s 458us/step - loss: 0.3752 - acc: 0.8727 - val_loss: 0.4125 - val_acc: 0.8692\n",
      "Epoch 151/200\n",
      "11400/11400 [==============================] - 5s 460us/step - loss: 0.3621 - acc: 0.8770 - val_loss: 0.5362 - val_acc: 0.8255\n",
      "Epoch 152/200\n",
      "11400/11400 [==============================] - 5s 458us/step - loss: 0.3614 - acc: 0.8782 - val_loss: 0.5031 - val_acc: 0.8379\n",
      "Epoch 153/200\n",
      "11400/11400 [==============================] - 5s 458us/step - loss: 0.3556 - acc: 0.8772 - val_loss: 0.5031 - val_acc: 0.8374\n",
      "Epoch 154/200\n",
      "11400/11400 [==============================] - 5s 459us/step - loss: 0.3443 - acc: 0.8836 - val_loss: 0.5262 - val_acc: 0.8300\n",
      "Epoch 155/200\n",
      "11400/11400 [==============================] - 5s 459us/step - loss: 0.3697 - acc: 0.8730 - val_loss: 0.5226 - val_acc: 0.8374\n",
      "Epoch 156/200\n",
      "11400/11400 [==============================] - 5s 460us/step - loss: 0.3665 - acc: 0.8747 - val_loss: 0.4778 - val_acc: 0.8434\n",
      "Epoch 157/200\n",
      "11400/11400 [==============================] - 5s 458us/step - loss: 0.3501 - acc: 0.8820 - val_loss: 0.4724 - val_acc: 0.8529\n",
      "Epoch 158/200\n",
      "11400/11400 [==============================] - 5s 460us/step - loss: 0.3470 - acc: 0.8797 - val_loss: 0.5215 - val_acc: 0.8268\n",
      "Epoch 159/200\n",
      "11400/11400 [==============================] - 5s 459us/step - loss: 0.3616 - acc: 0.8775 - val_loss: 0.4993 - val_acc: 0.8353\n",
      "Epoch 160/200\n",
      "11400/11400 [==============================] - 5s 459us/step - loss: 0.3449 - acc: 0.8813 - val_loss: 0.5513 - val_acc: 0.8192\n",
      "Epoch 161/200\n",
      "11400/11400 [==============================] - 5s 458us/step - loss: 0.3661 - acc: 0.8769 - val_loss: 0.5209 - val_acc: 0.8247\n",
      "Epoch 162/200\n",
      "11400/11400 [==============================] - 5s 459us/step - loss: 0.3617 - acc: 0.8754 - val_loss: 0.3925 - val_acc: 0.8676\n",
      "Epoch 163/200\n",
      "11400/11400 [==============================] - 5s 458us/step - loss: 0.3700 - acc: 0.8728 - val_loss: 0.4514 - val_acc: 0.8558\n",
      "Epoch 164/200\n",
      "11400/11400 [==============================] - 5s 459us/step - loss: 0.3494 - acc: 0.8818 - val_loss: 0.5832 - val_acc: 0.8097\n",
      "Epoch 165/200\n",
      "11400/11400 [==============================] - 5s 458us/step - loss: 0.3543 - acc: 0.8832 - val_loss: 0.4733 - val_acc: 0.8447\n",
      "Epoch 166/200\n",
      "11400/11400 [==============================] - 5s 457us/step - loss: 0.3587 - acc: 0.8779 - val_loss: 0.5965 - val_acc: 0.8063\n",
      "Epoch 167/200\n",
      "11400/11400 [==============================] - 5s 459us/step - loss: 0.3512 - acc: 0.8793 - val_loss: 0.5478 - val_acc: 0.8095\n",
      "Epoch 168/200\n",
      "11400/11400 [==============================] - 5s 460us/step - loss: 0.3361 - acc: 0.8845 - val_loss: 0.4224 - val_acc: 0.8647\n",
      "Epoch 169/200\n",
      "11400/11400 [==============================] - 5s 457us/step - loss: 0.3577 - acc: 0.8782 - val_loss: 0.5809 - val_acc: 0.8066\n",
      "Epoch 170/200\n",
      "11400/11400 [==============================] - 5s 459us/step - loss: 0.3511 - acc: 0.8803 - val_loss: 0.4749 - val_acc: 0.8474\n",
      "Epoch 171/200\n",
      "11400/11400 [==============================] - 5s 459us/step - loss: 0.3555 - acc: 0.8803 - val_loss: 0.4529 - val_acc: 0.8479\n",
      "Epoch 172/200\n",
      "11400/11400 [==============================] - 5s 458us/step - loss: 0.3388 - acc: 0.8872 - val_loss: 0.4949 - val_acc: 0.8250\n",
      "Epoch 173/200\n",
      "11400/11400 [==============================] - 5s 459us/step - loss: 0.3515 - acc: 0.8784 - val_loss: 0.3780 - val_acc: 0.8721\n",
      "Epoch 174/200\n",
      "11400/11400 [==============================] - 5s 460us/step - loss: 0.3496 - acc: 0.8796 - val_loss: 0.5291 - val_acc: 0.8308\n",
      "Epoch 175/200\n",
      "11400/11400 [==============================] - 5s 459us/step - loss: 0.3208 - acc: 0.8914 - val_loss: 0.4496 - val_acc: 0.8468\n",
      "Epoch 176/200\n",
      "11400/11400 [==============================] - 5s 458us/step - loss: 0.3175 - acc: 0.8908 - val_loss: 0.5806 - val_acc: 0.8034\n",
      "Epoch 177/200\n",
      "11400/11400 [==============================] - 5s 458us/step - loss: 0.3566 - acc: 0.8825 - val_loss: 0.4835 - val_acc: 0.8316\n",
      "Epoch 178/200\n",
      "11400/11400 [==============================] - 5s 459us/step - loss: 0.3678 - acc: 0.8741 - val_loss: 0.5326 - val_acc: 0.8168\n",
      "Epoch 179/200\n",
      "11400/11400 [==============================] - 5s 460us/step - loss: 0.3557 - acc: 0.8818 - val_loss: 0.4329 - val_acc: 0.8629\n",
      "Epoch 180/200\n",
      "11400/11400 [==============================] - 5s 458us/step - loss: 0.3354 - acc: 0.8871 - val_loss: 0.3737 - val_acc: 0.8732\n",
      "Epoch 181/200\n",
      "11400/11400 [==============================] - 5s 459us/step - loss: 0.3499 - acc: 0.8846 - val_loss: 0.5095 - val_acc: 0.8289\n",
      "Epoch 182/200\n",
      "11400/11400 [==============================] - 5s 458us/step - loss: 0.3398 - acc: 0.8883 - val_loss: 0.4343 - val_acc: 0.8587\n",
      "Epoch 183/200\n",
      "11400/11400 [==============================] - 5s 460us/step - loss: 0.3556 - acc: 0.8801 - val_loss: 0.4192 - val_acc: 0.8603\n",
      "Epoch 184/200\n",
      "11400/11400 [==============================] - 5s 459us/step - loss: 0.3296 - acc: 0.8870 - val_loss: 0.4459 - val_acc: 0.8558\n",
      "Epoch 185/200\n",
      "11400/11400 [==============================] - 5s 460us/step - loss: 0.3536 - acc: 0.8812 - val_loss: 0.3878 - val_acc: 0.8803\n",
      "Epoch 186/200\n",
      "11400/11400 [==============================] - 5s 459us/step - loss: 0.3490 - acc: 0.8803 - val_loss: 0.5380 - val_acc: 0.8111\n",
      "Epoch 187/200\n",
      "11400/11400 [==============================] - 5s 458us/step - loss: 0.3431 - acc: 0.8792 - val_loss: 0.4303 - val_acc: 0.8539\n",
      "Epoch 188/200\n",
      "11400/11400 [==============================] - 5s 459us/step - loss: 0.3523 - acc: 0.8836 - val_loss: 0.4422 - val_acc: 0.8537\n",
      "Epoch 189/200\n",
      "11400/11400 [==============================] - 5s 458us/step - loss: 0.3318 - acc: 0.8883 - val_loss: 0.4706 - val_acc: 0.8461\n",
      "Epoch 190/200\n",
      "11400/11400 [==============================] - 5s 458us/step - loss: 0.3368 - acc: 0.8871 - val_loss: 0.4616 - val_acc: 0.8489\n",
      "Epoch 191/200\n",
      "11400/11400 [==============================] - 5s 460us/step - loss: 0.3550 - acc: 0.8796 - val_loss: 0.4892 - val_acc: 0.8311\n",
      "Epoch 192/200\n",
      "11400/11400 [==============================] - 5s 458us/step - loss: 0.3449 - acc: 0.8821 - val_loss: 0.4623 - val_acc: 0.8416\n",
      "Epoch 193/200\n",
      "11400/11400 [==============================] - 5s 459us/step - loss: 0.3479 - acc: 0.8812 - val_loss: 0.4659 - val_acc: 0.8403\n",
      "Epoch 194/200\n",
      "11400/11400 [==============================] - 5s 459us/step - loss: 0.3373 - acc: 0.8861 - val_loss: 0.4186 - val_acc: 0.8592\n",
      "Epoch 195/200\n",
      "11400/11400 [==============================] - 5s 457us/step - loss: 0.3396 - acc: 0.8847 - val_loss: 0.5423 - val_acc: 0.8316\n",
      "Epoch 196/200\n",
      "11400/11400 [==============================] - 5s 458us/step - loss: 0.3284 - acc: 0.8904 - val_loss: 0.4053 - val_acc: 0.8663\n",
      "Epoch 197/200\n",
      "11400/11400 [==============================] - 5s 460us/step - loss: 0.3321 - acc: 0.8891 - val_loss: 0.5278 - val_acc: 0.8345\n",
      "Epoch 198/200\n",
      "11400/11400 [==============================] - 5s 458us/step - loss: 0.3534 - acc: 0.8805 - val_loss: 0.4849 - val_acc: 0.8350\n",
      "Epoch 199/200\n",
      "11400/11400 [==============================] - 5s 473us/step - loss: 0.3238 - acc: 0.8896 - val_loss: 0.4469 - val_acc: 0.8511\n",
      "Epoch 200/200\n",
      "11400/11400 [==============================] - 5s 467us/step - loss: 0.3408 - acc: 0.8849 - val_loss: 0.5373 - val_acc: 0.8292\n"
     ]
    }
   ],
   "source": [
    "tensorboard = TensorBoard(log_dir='./logs/scalars/genre', histogram_freq=0, write_graph=True)\n",
    "\n",
    "hist = model.fit(X_train, y1_train,\n",
    "          batch_size=32, # tamaño del batch de entrenamiento\n",
    "          epochs=200, # Número de pases\n",
    "          verbose=1, # Mostrar progreso\n",
    "          validation_split=0.25,\n",
    "          callbacks=[tensorboard]) # Seleccionar un 25% de los datos para validación "
   ]
  },
  {
   "cell_type": "markdown",
   "metadata": {},
   "source": [
    "## Resultados"
   ]
  },
  {
   "cell_type": "code",
   "execution_count": 22,
   "metadata": {},
   "outputs": [
    {
     "name": "stdout",
     "output_type": "stream",
     "text": [
      "\t\t|-----------|-------|\n",
      "\tGenre\t| Precisión | Coste |\n",
      "+---------------+-----------+-------+\n",
      "| Entrenamiento\t|   0.885   |  0.34 |\n",
      "| Validacion\t|   0.829   |  0.54 |\n",
      "| Test\t\t|   0.828   |  0.52 |\n",
      "+---------------+-----------+-------+\n"
     ]
    }
   ],
   "source": [
    "score_test = model.evaluate(X_test, y1_test, verbose=0)\n",
    "print(\"\\t\\t|-----------|-------|\")\n",
    "print(\"\\tGenre\\t| Precisión | Coste |\")\n",
    "print(\"+---------------+-----------+-------+\")\n",
    "print(\"| Entrenamiento\\t|   {:5.3f}   | {:5.2f} |\".format(hist.history['acc'][-1], hist.history['loss'][-1]))\n",
    "print(\"| Validacion\\t|   {:5.3f}   | {:5.2f} |\".format(hist.history['val_acc'][-1], hist.history['val_loss'][-1]))\n",
    "print(\"| Test\\t\\t|   {:5.3f}   | {:5.2f} |\".format(score_test[1], score_test[0]))\n",
    "print(\"+---------------+-----------+-------+\")"
   ]
  },
  {
   "cell_type": "code",
   "execution_count": 23,
   "metadata": {},
   "outputs": [
    {
     "data": {
      "text/plain": [
       "<matplotlib.legend.Legend at 0x18069dee908>"
      ]
     },
     "execution_count": 23,
     "metadata": {},
     "output_type": "execute_result"
    },
    {
     "data": {
      "image/png": "[encoded data removed]",
      "text/plain": [
       "<Figure size 1080x432 with 2 Axes>"
      ]
     },
     "metadata": {
      "needs_background": "light"
     },
     "output_type": "display_data"
    }
   ],
   "source": [
    "plt.figure(figsize=(15,6))\n",
    "\n",
    "plt.subplot(1,2,1)\n",
    "plt.plot(hist.history['acc'], label='entrenamiento')\n",
    "plt.plot(hist.history['val_acc'], label='validación')\n",
    "plt.scatter(x=len(hist.history['acc'])-1, y = score_test[1], c='red',label='test')\n",
    "plt.title('Género: Precisión')\n",
    "plt.xlabel('Épocas')\n",
    "plt.ylabel('Precisión')\n",
    "plt.legend()\n",
    "\n",
    "plt.subplot(1,2,2)\n",
    "plt.plot(hist.history['loss'], label='entrenamiento')\n",
    "plt.plot(hist.history['val_loss'], label='validación')\n",
    "plt.scatter(x=len(hist.history['loss'])-1, y = score_test[0], c='red',label='test')\n",
    "plt.title('Género: Coste')\n",
    "plt.xlabel('Épocas')\n",
    "plt.ylabel('Coste')\n",
    "plt.legend()"
   ]
  },
  {
   "cell_type": "code",
   "execution_count": 24,
   "metadata": {},
   "outputs": [],
   "source": [
    "#http://scikit-learn.org/stable/auto_examples/model_selection/plot_confusion_matrix.html\n",
    "def plot_confusion_matrix(cm, classes,\n",
    "                          normalize=False,\n",
    "                          title='Confusion matrix',\n",
    "                          cmap=plt.cm.Blues):\n",
    "    \"\"\"\n",
    "    This function prints and plots the confusion matrix.\n",
    "    Normalization can be applied by setting `normalize=True`.\n",
    "    \"\"\"\n",
    "    # Si se elige normalize=True los valores de las filas se normalizaran\n",
    "    if normalize:\n",
    "        # normalizar sobre las filas (valores verdaderos)\n",
    "        cm = cm.astype('float') / cm.sum(axis=1)[:, np.newaxis]\n",
    "        print(\"Normalized confusion matrix\")\n",
    "    else:\n",
    "        print('Confusion matrix, without normalization')\n",
    "\n",
    "    # generar gráfico\n",
    "    plt.imshow(cm, interpolation='nearest', cmap=cmap)\n",
    "    plt.title(title)\n",
    "    plt.colorbar()\n",
    "    \n",
    "    # Generar ejes\n",
    "    tick_marks = np.arange(len(classes))\n",
    "    plt.xticks(tick_marks, classes, rotation=45)\n",
    "    plt.yticks(tick_marks, classes)\n",
    "\n",
    "    # Añadir anotaciones a celdas\n",
    "    fmt = '.2f' if normalize else 'd'\n",
    "    thresh = cm.max() / 2.\n",
    "    for i, j in itertools.product(range(cm.shape[0]), range(cm.shape[1])):\n",
    "        plt.text(j, i, format(cm[i, j], fmt),\n",
    "                 horizontalalignment=\"center\",\n",
    "                 color=\"white\" if cm[i, j] > thresh else \"black\")\n",
    "\n",
    "    plt.tight_layout()\n",
    "    plt.ylabel('True label')\n",
    "    plt.xlabel('Predicted label')"
   ]
  },
  {
   "cell_type": "markdown",
   "metadata": {},
   "source": [
    "Utilizamos los datos de test para generar la matriz de confusión"
   ]
  },
  {
   "cell_type": "code",
   "execution_count": 25,
   "metadata": {},
   "outputs": [],
   "source": [
    "preds = np.argmax(model.predict(X_test), axis = 1)\n",
    "y_orig = np.argmax(y1_test, axis = 1)\n",
    "cm = confusion_matrix(preds, y_orig)"
   ]
  },
  {
   "cell_type": "markdown",
   "metadata": {},
   "source": [
    "Dibujamos la matriz de confusión con normalización sobre las filas/valores reales:"
   ]
  },
  {
   "cell_type": "code",
   "execution_count": 26,
   "metadata": {},
   "outputs": [
    {
     "name": "stdout",
     "output_type": "stream",
     "text": [
      "Normalized confusion matrix\n"
     ]
    },
    {
     "data": {
      "image/png": "[encoded data removed]",
      "text/plain": [
       "<Figure size 576x576 with 2 Axes>"
      ]
     },
     "metadata": {
      "needs_background": "light"
     },
     "output_type": "display_data"
    }
   ],
   "source": [
    "keys = OrderedDict(sorted(genres.items(), key=lambda t: t[1])).keys() # extraer nombres de categorías\n",
    "\n",
    "plt.figure(figsize=(8,8)) \n",
    "plot_confusion_matrix(cm, keys, normalize=True)"
   ]
  },
  {
   "cell_type": "markdown",
   "metadata": {},
   "source": [
    "Los labels True y predicted estan intercambiados (esto se arregla en la memoria)"
   ]
  },
  {
   "cell_type": "markdown",
   "metadata": {},
   "source": [
    "## Save the model\n",
    "En el caso de que quisieramos guardar el modelo con sus pesos entrenados para uso futuro podemos utilizar la función `save()`:"
   ]
  },
  {
   "cell_type": "code",
   "execution_count": 27,
   "metadata": {},
   "outputs": [],
   "source": [
    "# Save the model\n",
    "# model.save('models/standard_genre.h5')"
   ]
  }
 ],
 "metadata": {
  "kernelspec": {
   "display_name": "Python 3",
   "language": "python",
   "name": "python3"
  },
  "language_info": {
   "codemirror_mode": {
    "name": "ipython",
    "version": 3
   },
   "file_extension": ".py",
   "mimetype": "text/x-python",
   "name": "python",
   "nbconvert_exporter": "python",
   "pygments_lexer": "ipython3",
   "version": "3.6.8"
  }
 },
 "nbformat": 4,
 "nbformat_minor": 2
}
